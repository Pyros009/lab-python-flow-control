{
 "cells": [
  {
   "cell_type": "markdown",
   "id": "d3bfc191-8885-42ee-b0a0-bbab867c6f9f",
   "metadata": {
    "tags": []
   },
   "source": [
    "# Lab | Flow Control"
   ]
  },
  {
   "cell_type": "markdown",
   "id": "3851fcd1-cf98-4653-9c89-e003b7ec9400",
   "metadata": {},
   "source": [
    "## Exercise: Managing Customer Orders Optimized\n",
    "\n",
    "In the last lab, you were starting an online store that sells various products. To ensure smooth operations, you developed a program that manages customer orders and inventory.\n",
    "\n",
    "You did so without using flow control. Let's go a step further and improve this code.\n",
    "\n",
    "Follow the steps below to complete the exercise:\n",
    "\n",
    "1. Look at your code from the lab data structures, and improve repeated code with loops.\n",
    "\n",
    "2. Instead of asking the user to input the name of three products that a customer wants to order, do the following:\n",
    "    \n",
    "    a. Prompt the user to enter the name of a product that a customer wants to order.\n",
    "    \n",
    "    b. Add the product name to the \"customer_orders\" set.\n",
    "    \n",
    "    c. Ask the user if they want to add another product (yes/no).\n",
    "    \n",
    "    d. Continue the loop until the user does not want to add another product.\n",
    "\n",
    "3. Instead of updating the inventory by subtracting 1 from the quantity of each product, only do it for  the products that were ordered (those in \"customer_orders\")."
   ]
  },
  {
   "cell_type": "code",
   "execution_count": null,
   "id": "80b6f96c-9bfb-4399-9b76-61b9538a73fd",
   "metadata": {},
   "outputs": [],
   "source": [
    "products = [\"t-shirt\", \"mug\", \"hat\", \"book\", \"keychain\"]\n",
    "\n",
    "inventory = dict()\n",
    "\n",
    "for i in products:\n",
    "    values = int(input(f\"How many {i} do you have in stock:\"))\n",
    "    inventory.update({i: values})\n",
    "\n",
    "print(inventory)"
   ]
  },
  {
   "cell_type": "code",
   "execution_count": null,
   "id": "8ab710c3-1127-454c-bf8e-a5c3fd051d32",
   "metadata": {},
   "outputs": [],
   "source": [
    "buy_list = set()\n",
    "order_more = \"Yes\"\n",
    "\n",
    "while order_more == \"Yes\":\n",
    "    choice = input(f\"Pick one :{products}\")\n",
    "    buy_list.add(choice)\n",
    "    products.remove(choice)\n",
    "    order_more = input(\"Do you want to add another product (Yes/No)?: \")\n",
    "\n",
    "print(buy_list)"
   ]
  },
  {
   "cell_type": "code",
   "execution_count": null,
   "id": "8a4acffd-2ab9-43ca-92e0-08c5346fd59f",
   "metadata": {},
   "outputs": [],
   "source": [
    "torder = len(buy_list)\n",
    "a = int(torder/sum(inventory.values())*100)\n",
    "b = (torder, a)\n",
    "print(b)"
   ]
  },
  {
   "cell_type": "code",
   "execution_count": null,
   "id": "fd6c39bd-56d7-4d02-a76e-0364c1220a9d",
   "metadata": {},
   "outputs": [],
   "source": [
    "# Update the inventory by subtracting 1 from the quantity of each product. Modify the inventory dictionary accordingly.\n",
    "for y in buy_list:\n",
    "    #print(y)\n",
    "    v = inventory[y]\n",
    "    inventory.update({y:v-1})\n",
    "     \n",
    "#print(inventory)"
   ]
  },
  {
   "cell_type": "code",
   "execution_count": null,
   "id": "02ca85a1-b74a-4f25-9b26-8cc04d78740a",
   "metadata": {},
   "outputs": [],
   "source": [
    "# Print the updated inventory, displaying the quantity of each product on separate lines\n",
    "for z in inventory:\n",
    "    print(z + \" : \" + str(inventory[z]))"
   ]
  }
 ],
 "metadata": {
  "kernelspec": {
   "display_name": "Python 3 (ipykernel)",
   "language": "python",
   "name": "python3"
  },
  "language_info": {
   "codemirror_mode": {
    "name": "ipython",
    "version": 3
   },
   "file_extension": ".py",
   "mimetype": "text/x-python",
   "name": "python",
   "nbconvert_exporter": "python",
   "pygments_lexer": "ipython3",
   "version": "3.12.4"
  }
 },
 "nbformat": 4,
 "nbformat_minor": 5
}
